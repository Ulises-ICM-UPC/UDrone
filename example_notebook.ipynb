{
 "cells": [
  {
   "cell_type": "markdown",
   "metadata": {},
   "source": [
    "# UDrone\n",
    "\n",
    "`UDrone` is an open source software written in Python for automatic image calibration of drone video images from a set of images that are manually calibrated.\n",
    "\n",
    "### Description\n",
    "The calibration algorithm assumes that the intrinsic parameters of the camera remain unchanged while the extrinsic parameters (position and orientation) vary. The result of the process is the common intrinsic camera parameters for all images and the extrinsic parameters for each individual images extracted from a video. In addition, for each image a planview can be generated and, for the video, planviews for mean (_timex_) and sigma (_variance_) of the video images and a timestack can be generated as well. The development of this software is suitable for processing videos obtained from moving cameras such as those acquired from drones. Details on the algorithm and methodology are described in\n",
    "> *Simarro, G.; Calvete, D.; Plomaritis, T.A.; Moreno-Noguer, F.; Giannoukakou-Leontsini, I.; Montes, J.; Durán, R. The Influence of Camera Calibration on Nearshore Bathymetry Estimation from UAV Videos. Remote Sens. 2021, 13, 150. https://doi.org/10.3390/rs13010150*\n",
    "\n",
    "The automatic calibration process consists of the following steps:\n",
    "\n",
    " 1. [Video frame extraction](#video-extraction)\n",
    " 2. [Intrinsic camera calibration](#intrinsic-calibration)\n",
    " 3. [Automatic frame calibration](#automatic-calibration)\n",
    " \n",
    "Further `UDrone` allows to generate planviews for the calibrated images, mean and sigma images for the planviews and a timestack of the video:\n",
    "\n",
    " 4. [Planview generation](#planviews)\n",
    " 5. [Mean as sigma generation](#mean-and-sigma)\n",
    " 6. [Timestack generation](#timestack)\n",
    " \n",
    "A code to verify the quality of the GCPs used in the manual calibration of the basis images is also provided:\n",
    "\n",
    " 7. [Check GCP for basis calibration](#gcp-check)\n",
    "\n",
    "### Requirements and project structure\n",
    "To run the software it is necessary to have Python (3.8) and install the following dependencies:\n",
    "- cv2 (4.2.0)\n",
    "- numpy (1.19.5)\n",
    "- scipy (1.3.3)\n",
    "\n",
    "In parenthesis we indicate the version with which the software has been tested. It is possible that it works with older versions. \n",
    "\n",
    "The structure of the project is the following:\n",
    "* `example.py`\n",
    "* `example_notebook.py`\n",
    "* **`udrone`**\n",
    "  * `udrone.py`\n",
    "  * `ulises_udrone.py`\n",
    "* **`example`**\n",
    "  * `videoFile.mp4` (or .avi)\n",
    "  * **`basis`**\n",
    "    * `videoFile_000000000000.png`\n",
    "    * `videoFile_000000000000cal0.txt`\n",
    "    * `videoFile_000000000000cal.txt`\n",
    "    * `videoFile_000000000000cdg.txt`\n",
    "    * `videoFile_000000000000cdh.txt`\n",
    "    * . . .\n",
    "  * **`basis_check`**\n",
    "    * `videoFile_000000000000.png`\n",
    "    * `videoFile_000000000000cdg.txt`\n",
    "    * . . .\n",
    "  * **`frames`**\n",
    "    * `videoFile_000000000000.png`\n",
    "    * `videoFile_000000000000cal.txt`\n",
    "    * . . .\n",
    "  * **`planviews`**\n",
    "    * `crxyz_planviews.txt`\n",
    "    * `xy_planview.txt`\n",
    "    * `videoFile__000000000000plw.png`\n",
    "    * `mean.png`\n",
    "    * `sigma.png`\n",
    "    * . . .\n",
    "  * **`timestack`**\n",
    "    * `cxyz_timestack.txt`\n",
    "    * `rt_timestack.txt`\n",
    "    * `xyz_timestack.txt`\n",
    "    * `videoFile__000000000000plw.png`\n",
    "    * `mean.png`\n",
    "    * `timestack.png`\n",
    "  * **`TMP`**\n",
    "    * `videoFile_000000000000cal0_check.png`\n",
    "    * `videoFile_000000000000cal_check.png`\n",
    "    * `videoFile_000000000000_checkplw.png`\n",
    "    * `videoFile_000000000000plw_check.png`\n",
    "    * `videoFile_000000000000_checktimestack.png`\n",
    "    * . . .\n",
    "\n",
    "\n",
    "The local modules of `UDrone` are located in the **`udrone`** folder.\n",
    "\n",
    "To run a demo with the video in folder **`example`** and a basis of frames in **`basis`** using a Jupyter Notebook we provide the file `example_notebook.ipynb`. For experienced users, the `example.py` file can be run in a terminal. `UDrone` handles `MP4` (recommended) and `AVI` image formats.\n",
    "\n",
    "## Video extraction\n",
    "\n",
    "A selection of frames are extracted from the video to be analysed at a certain frame-rate.\n",
    "\n",
    "### Run video extraction\n",
    "Import modules:"
   ]
  },
  {
   "cell_type": "code",
   "execution_count": null,
   "metadata": {},
   "outputs": [],
   "source": [
    "import sys\n",
    "import os\n",
    "sys.path.insert(0, 'udrone')\n",
    "import udrone as udrone"
   ]
  },
  {
   "cell_type": "markdown",
   "metadata": {},
   "source": [
    "Set the main path, where video is located, and the path of the folder where the frames will be placed:"
   ]
  },
  {
   "cell_type": "code",
   "execution_count": null,
   "metadata": {},
   "outputs": [],
   "source": [
    "pathFolderMain = 'example'\n",
    "pathFolderVideo = pathFolderMain\n",
    "pathFolderFrames = pathFolderMain + os.sep + 'frames'"
   ]
  },
  {
   "cell_type": "markdown",
   "metadata": {},
   "source": [
    "Set the extraction rate of the frames:\n",
    "\n",
    "|  | Parameter | Suggested value | Units |\n",
    "|:--|:--:|:--:|:--:|\n",
    "| Extraction framerate | `FPS` | _2.0_ | _1/s_ |\n",
    "Set FPS=0 to extract all frames from the video."
   ]
  },
  {
   "cell_type": "code",
   "execution_count": null,
   "metadata": {},
   "outputs": [],
   "source": [
    "FPS = 2.00"
   ]
  },
  {
   "cell_type": "markdown",
   "metadata": {},
   "source": [
    "Run the code to extract frames from de video:"
   ]
  },
  {
   "cell_type": "code",
   "execution_count": null,
   "metadata": {},
   "outputs": [],
   "source": [
    "udrone.Video2Frames(pathFolderVideo, pathFolderFrames, FPS)"
   ]
  },
  {
   "cell_type": "markdown",
   "metadata": {},
   "source": [
    "As a result, images of each extracted frame `<frame>.png` are generated in the **`frames`** folder with the format `<videoFilename>_<milliseconds>.png`.\n",
    "\n",
    "## Intrinsic calibration\n",
    "The intrinsic parameters of the camera are determined by a manual calibration of selected frames that will also be used in the automatic calibration of all the extracted frames. To manually calibrate the frames selected for the basis, placed in the folder **`basis`**, it is necessary that each image `<basisFrame>.png` is supplied with a file containing the Ground Control Points (GCP) and, optionally, the Horizon Points (HP). The structure of each of these files is the following:\n",
    "* `<basisFrame>cdg.txt`: For each GCP one line with (minimum 6)\n",
    ">`pixel-column`, `pixel-row`, `x-coordinate`, `y-coordinate`, `z-coordinate`\n",
    "* `<basisFrame>cdh.txt`: For each HP one line with (minimum 3)\n",
    ">`pixel-column`, `pixel-row`\n",
    "\n",
    "Quantities must be separated by at least one blank space between them and the last record should not be continued with a newline (return).\n",
    "\n",
    "\n",
    "### Run basis calibration\n",
    "Set the folder path where the basis is located:"
   ]
  },
  {
   "cell_type": "code",
   "execution_count": null,
   "metadata": {},
   "outputs": [],
   "source": [
    "pathFolderBasis = pathFolderMain + os.sep + 'basis'"
   ]
  },
  {
   "cell_type": "markdown",
   "metadata": {},
   "source": [
    "Set the value of maximum error allowed for the basis calibration:\n",
    "\n",
    "|  | Parameter | Suggested value | Units |\n",
    "|:--|:--:|:--:|:--:|\n",
    "| Critical reprojection pixel error | `eCritical` | _5._ | _pixel_ |\n"
   ]
  },
  {
   "cell_type": "code",
   "execution_count": null,
   "metadata": {},
   "outputs": [],
   "source": [
    "eCritical = 5."
   ]
  },
  {
   "cell_type": "markdown",
   "metadata": {},
   "source": [
    "Select an intrinsic camera calibration model.\n",
    "\n",
    "| Camara model | `parabolic` | `quartic`| `full` |\n",
    "|:--|:--:|:--:|:--:|\n",
    "| Lens radial distortion | parabolic | parabolic + quartic | parabolic + quartic |\n",
    "| Lens tangential distortion | no | no | yes |\n",
    "| Square pixels | yes | yes | no |\n",
    "| Decentering | no | no | yes |\n",
    "\n",
    "The `parabolic` model is recommended by default, unless the images are highly distorted."
   ]
  },
  {
   "cell_type": "code",
   "execution_count": null,
   "metadata": {},
   "outputs": [],
   "source": [
    "calibrationModel = 'parabolic'"
   ]
  },
  {
   "cell_type": "markdown",
   "metadata": {},
   "source": [
    "To facilitate the verification that the GCPs have been correctly selected in each image of the basis, images showing the GCPs and HPs (black), the reprojection of GCPs (yellow) and the horizon line (yellow) on the images can be generated. Set parameter `verbosePlot = True`, and to `False` otherwise. Images (`<basisFrame>cal0_check.png`) will be placed on a TMP folder."
   ]
  },
  {
   "cell_type": "code",
   "execution_count": null,
   "metadata": {},
   "outputs": [],
   "source": [
    "verbosePlot = True"
   ]
  },
  {
   "cell_type": "markdown",
   "metadata": {},
   "source": [
    "Run the initial calibration algorithm for each image of the basis:"
   ]
  },
  {
   "cell_type": "code",
   "execution_count": null,
   "metadata": {},
   "outputs": [],
   "source": [
    "udrone.CalibrationOfBasisImages(pathFolderBasis, eCritical, calibrationModel, verbosePlot)"
   ]
  },
  {
   "cell_type": "markdown",
   "metadata": {},
   "source": [
    "In case that the reprojection error of a GCP is higher than the error `eCritical` for a certain image `<basisFrame>`, a message will appear suggesting to re-run the calibration of the basis or to modify the values or to delete points in the file `<basisFrame>cdg.txt`. If the calibration error of an image exceeds the error `eCritical` the calibration is given as _failed_. Consider re-run the calibration of the basis or verify the GPCs and HPs.\n",
    "\n",
    "Then, run the algorithm to obtain the optimal intrinsic parameters of the camera."
   ]
  },
  {
   "cell_type": "code",
   "execution_count": null,
   "metadata": {
    "scrolled": true
   },
   "outputs": [],
   "source": [
    "udrone.CalibrationOfBasisImagesConstantIntrinsic(pathFolderBasis, calibrationModel, verbosePlot)"
   ]
  },
  {
   "cell_type": "markdown",
   "metadata": {},
   "source": [
    "As a result of the calibration, the calibration file `<basisFrame>cal.txt` is generated in the **`basis`** directory for each of the frames. This file contains the following parameters:\n",
    "\n",
    "| Magnitudes | Variables | Units |\n",
    "|:--|:--:|:--:|\n",
    "| Camera position coordinates | `xc`, `yc`, `zc` | _m_ |\n",
    "| Camera orientation angles | `ph`, `sg`, `ta` | _rad_ |\n",
    "| Lens radial distortion (parabolic, quartic) | `k1a`, `k2a` | _-_ |\n",
    "| Lens tangential distortion (parabolic, quartic) | `p1a`, `p2a` | _-_ |\n",
    "| Pixel size | `sc`, `sr` | _-_ |\n",
    "| Decentering | `oc`, `or` | _pixel_ |\n",
    "| Image size | `nc`, `nr` | _pixel_ |\n",
    "| Calibration error | `errorT`| _pixel_ |\n",
    "\n",
    "The different calibration files `<basisFrame>cal.txt` differ only in extrinsic paramaters (`xc`, `yc`, `zc`, `ph`, `sg`, `ta`) and the calibration error (`errorT`). A `<basisFrame>cal0.txt` file with the manual calibration parameters for each frame of the basis will also have been generated.\n",
    "\n",
    "## Automatic calibration\n",
    "\n",
    "In this step, each of the frames `<frame>.png` in the folder **`frames`** will be automatically calibrated. To facilitate the verification that the GCPs have been correctly identified in each frame, images showing the reprojection of the GCPs can be generated. Set parameter `verbosePlot = True`, and to `False` otherwise. Images (`<frame>cal_check.png`) will be placed on a **`TMP`** folder."
   ]
  },
  {
   "cell_type": "code",
   "execution_count": null,
   "metadata": {},
   "outputs": [],
   "source": [
    "verbosePlot = True"
   ]
  },
  {
   "cell_type": "markdown",
   "metadata": {},
   "source": [
    "Run the algorithm to calibrate frames automatically:"
   ]
  },
  {
   "cell_type": "code",
   "execution_count": null,
   "metadata": {},
   "outputs": [],
   "source": [
    "udrone.AutoCalibrationOfFramesViaGCPs(pathFolderBasis, pathFolderFrames, verbosePlot)"
   ]
  },
  {
   "cell_type": "markdown",
   "metadata": {},
   "source": [
    "For each of the frames `<frame>.png` in folder **`frames`**, a calibration file `<frame>cal.txt` with the same characteristics as the one described above will be obtained. In case autocalibration process fails, it is reported that the calibration of the frame `<frame>.png` has _failed_. Increasing the basis frames can improve the calibration process. \n",
    "\n",
    "## Planviews\n",
    "\n",
    "Once the frames have been calibrated, planviews can be generated. The region of the planview is the one delimited by the minimum area rectangle containing the points of the plane specified in the file `xy_planview.txt` in the folder **`planviews`**. The planview image will be oriented so that the nearest corner to the point of the first of the file  `xy_planview.txt` will be placed in the upper left corner of the image. The structure of this file is the following:\n",
    "* `xy_planview.txt`: For each points one line with \n",
    "> `x-coordinate`, `y-coordinate`\n",
    "\n",
    "A minimum number of three not aligned points is required. These points are to be given in the same coordinate system as the GCPs.\n",
    "\n",
    "Set the folder path where the file `xy_planview.txt` is located and the value of `z0`."
   ]
  },
  {
   "cell_type": "code",
   "execution_count": null,
   "metadata": {},
   "outputs": [],
   "source": [
    "pathFolderPlanviews = pathFolderMain + os.sep + 'planviews'\n",
    "z0 = 3.2"
   ]
  },
  {
   "cell_type": "markdown",
   "metadata": {},
   "source": [
    "The resolution of the planviews is fixed by the pixels-per-meter established in the parameter `ppm`. To help verifying that the points for setting the planview are correctly placed, it is possible to show such points on the frames and on the planviews. Set the parameter `verbosePlot = True`, and to `False` otherwise. The images (`<frame>_checkplw.png` and `<frame>plw_check.png`) will be placed in a TMP folder."
   ]
  },
  {
   "cell_type": "code",
   "execution_count": null,
   "metadata": {},
   "outputs": [],
   "source": [
    "ppm = 1.0\n",
    "verbosePlot = True"
   ]
  },
  {
   "cell_type": "markdown",
   "metadata": {},
   "source": [
    "Run the algorithm to generate the planviews:"
   ]
  },
  {
   "cell_type": "code",
   "execution_count": null,
   "metadata": {},
   "outputs": [],
   "source": [
    "udrone.PlanviewsFromImages(pathFolderFrames, pathFolderPlanviews, z0, ppm, verbosePlot)"
   ]
  },
  {
   "cell_type": "markdown",
   "metadata": {},
   "source": [
    "As a result, for each of the calibrated frames `<frame>.png` in folder **`frames`**, a planview `<frame>plw.png` will be placed in the folder **`planviews`**. Note that objects outside the plane at height `z0` will show apparent displacements due to real camera movement. In the same folder, the file `crxyz_planviews.txt` will be located, containing the coordinates of the corner of the planviews images:\n",
    "* `crxyz_planviews.txt`: For each corner one line with \n",
    ">`pixel-column`, `pixel-row`, `x-coordinate`, `y-coordinate`, `z-coordinate`\n",
    "\n",
    "## Mean and sigma\n",
    "\n",
    "From the planview of each calibrated frame, time exposure (_timex_) and sigma images can be generated by computing the mean value (`mean.png`) and the standard deviation (`sigma.png`) of all images in the folder **`planviews`**, respectively."
   ]
  },
  {
   "cell_type": "code",
   "execution_count": null,
   "metadata": {},
   "outputs": [],
   "source": [
    "udrone.TimexAngSigma(pathFolderPlanviews)"
   ]
  },
  {
   "cell_type": "markdown",
   "metadata": {},
   "source": [
    "## Timestack\n",
    "\n",
    "In order to obtain time series of the pixel values of the frames along a path in the space, a file with the coordinates of points along the path must be provided. The valies are obtained along the straight segments bounded by consecutive points in the file. The structure of this file, located in the folder **`timestack`**, is the following:\n",
    "* `xyz_timestack.txt`: For each point one line with\n",
    ">`x-coordinate`, `y-coordinate`, `z-coordinate`\n",
    "\n",
    "A minimum number of two points is required. These points are to be given in the same coordinate system as the GCPs. Set the folder path of the file `xyz_timestack.txt`."
   ]
  },
  {
   "cell_type": "code",
   "execution_count": null,
   "metadata": {},
   "outputs": [],
   "source": [
    "pathFolderTimestack = pathFolderMain + os.sep + 'timestack'"
   ]
  },
  {
   "cell_type": "markdown",
   "metadata": {},
   "source": [
    "The resolution of the timestack is fixed by the pixels-per-meter established in the parameter `ppm`. In case a frame has no calibration, set the parameter `includeNotCalibrated = True` to include a black line for that image or `False` to be completely ignored in the timestack generation. To help verifying that the points for setting the timestack are correctly placed, it is possible to show such points on the frames (`<frame>_checktimestack.png` in **`TMP`** folder). Set the parameter `verbosePlot = True`, and to `False` otherwise. "
   ]
  },
  {
   "cell_type": "code",
   "execution_count": null,
   "metadata": {},
   "outputs": [],
   "source": [
    "ppm = 10.\n",
    "includeNotCalibrated = False\n",
    "verbosePlot = True"
   ]
  },
  {
   "cell_type": "markdown",
   "metadata": {},
   "source": [
    "Run the algorithm to generate the timestack:"
   ]
  },
  {
   "cell_type": "code",
   "execution_count": null,
   "metadata": {},
   "outputs": [],
   "source": [
    "udrone.TimestackFromImages(pathFolderFrames, pathFolderTimestack, ppm, includeNotCalibrated, verbosePlot)"
   ]
  },
  {
   "cell_type": "markdown",
   "metadata": {},
   "source": [
    "As a result, a timestack `timestack.png` will be placed in the folder  **`timestack`**. In the same folder, a file `cxyz_timestack.txt` containing the spatial coordinates of each column and a file `rt_timestack.txt` containing the file (time) of each row of the timestack will be located. The structure of these files are the following:\n",
    "* `cxyz_timestack.txt`: \n",
    ">`pixel-column`, `x-coordinate`, `y-coordinate`, `z-coordinate`\n",
    "* `rt_timestack.txt`: \n",
    ">`pixel-row`, `<frame>.png`\n",
    "\n",
    "## GCP check\n",
    "\n",
    "To verify the quality of the GCPs used in the manual calibration of the basis frames, a RANSAC (RANdom SAmple Consensus) is performed. Points of the files `<basisImage>cdg.txt` located at the **`basis_check`** folder will be tested. The calibration of the points is done with a `calibrationModel` and requires a minimum error `eCritical`. Set the folder and run the RANSAC algorithm:"
   ]
  },
  {
   "cell_type": "code",
   "execution_count": null,
   "metadata": {},
   "outputs": [],
   "source": [
    "pathFolderBasisCheck = pathFolderMain + os.sep + 'basis_check'\n",
    "udrone.CheckGCPs(pathFolderBasisCheck, eCritical, calibrationModel)"
   ]
  },
  {
   "cell_type": "markdown",
   "metadata": {},
   "source": [
    "For each file `<basisFrame>cdg.txt`, the GPCs that should be revised or excluded will be reported.\n",
    "\n",
    "## Contact us\n",
    "\n",
    "Are you experiencing problems? Do you want to give us a comment? Do you need to get in touch with us? Please contact us!\n",
    "\n",
    "To do so, we ask you to use the [Issues section](https://github.com/Ulises-ICM-UPC/UDrone/issues) instead of emailing us.\n",
    "\n",
    "## Contributions\n",
    "\n",
    "Contributions to this project are welcome. To do a clean pull request, please follow these [guidelines](https://github.com/MarcDiethelm/contributing/blob/master/README.md)\n",
    "\n",
    "## License\n",
    "\n",
    "UCalib is released under a [AGPL-3.0 license](https://github.com/Ulises-ICM-UPC/UDrone/blob/master/LICENSE). If you use UDrone in an academic work, please cite:\n",
    "\n",
    "    @Article{rs13010150,\n",
    "      AUTHOR = {Simarro, Gonzalo and Calvete, Daniel and Plomaritis, Theocharis A. and Moreno-Noguer, Francesc and Giannoukakou-Leontsini, Ifigeneia and Montes, Juan and Durán, Ruth},\n",
    "      TITLE = {The Influence of Camera Calibration on Nearshore Bathymetry Estimation from UAV Videos},\n",
    "      JOURNAL = {Remote Sensing},\n",
    "      VOLUME = {13},\n",
    "      YEAR = {2021},\n",
    "      NUMBER = {1},\n",
    "      ARTICLE-NUMBER = {150},\n",
    "      URL = {https://www.mdpi.com/2072-4292/13/1/150},\n",
    "      ISSN = {2072-4292},\n",
    "      DOI = {10.3390/rs13010150}\n",
    "      }\n",
    "\n",
    "    @Online{ulisesdrone, \n",
    "      author = {Simarro, Gonzalo and Calvete, Daniel},\n",
    "      title = {UDrone},\n",
    "      year = 2021,\n",
    "      url = {https://github.com/Ulises-ICM-UPC/UDrone}\n",
    "      }\n"
   ]
  }
 ],
 "metadata": {
  "kernelspec": {
   "display_name": "Python 3",
   "language": "python",
   "name": "python3"
  },
  "language_info": {
   "codemirror_mode": {
    "name": "ipython",
    "version": 3
   },
   "file_extension": ".py",
   "mimetype": "text/x-python",
   "name": "python",
   "nbconvert_exporter": "python",
   "pygments_lexer": "ipython3",
   "version": "3.8.10"
  }
 },
 "nbformat": 4,
 "nbformat_minor": 2
}
